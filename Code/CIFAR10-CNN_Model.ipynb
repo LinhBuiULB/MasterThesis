{
 "cells": [
  {
   "cell_type": "markdown",
   "metadata": {},
   "source": [
    "# CIFAR10 Dataset Recognition using CNN \n",
    "###  → See Section 5 in Master Thesis : \"Model prototype\" "
   ]
  },
  {
   "cell_type": "markdown",
   "metadata": {},
   "source": [
    "## • Imports & preprocessing "
   ]
  },
  {
   "cell_type": "code",
   "execution_count": 89,
   "metadata": {},
   "outputs": [],
   "source": [
    "import time \n",
    "import numpy as np \n",
    "import sys\n",
    "import matplotlib.pyplot as plt\n",
    "from keras.models import Sequential\n",
    "from keras.layers import Dense, Dropout, Flatten, BatchNormalization, Activation, GaussianNoise\n",
    "from keras.layers.convolutional import Conv2D, MaxPooling2D\n",
    "from keras.constraints import maxnorm\n",
    "from keras.utils import np_utils\n",
    "from keras.regularizers import l2\n",
    "from keras.preprocessing.image import ImageDataGenerator"
   ]
  },
  {
   "cell_type": "code",
   "execution_count": 90,
   "metadata": {},
   "outputs": [],
   "source": [
    "# Set random seed for purposes of reproducibility\n",
    "seed = 21"
   ]
  },
  {
   "cell_type": "code",
   "execution_count": 91,
   "metadata": {},
   "outputs": [],
   "source": [
    "from keras.datasets import cifar10"
   ]
  },
  {
   "cell_type": "code",
   "execution_count": 92,
   "metadata": {},
   "outputs": [],
   "source": [
    "# loading in the data\n",
    "     \n",
    "(X_train, y_train), (X_test, y_test) = cifar10.load_data()"
   ]
  },
  {
   "cell_type": "code",
   "execution_count": 93,
   "metadata": {},
   "outputs": [],
   "source": [
    "# normalize the inputs from 0-255 to between 0 and 1 by dividing by 255\n",
    "    \n",
    "X_train = X_train.astype('float32')\n",
    "X_test = X_test.astype('float32')\n",
    "X_train = X_train / 255.0\n",
    "X_test = X_test / 255.0"
   ]
  },
  {
   "cell_type": "markdown",
   "metadata": {},
   "source": [
    "### Sampling training dataset"
   ]
  },
  {
   "cell_type": "code",
   "execution_count": 94,
   "metadata": {},
   "outputs": [],
   "source": [
    "# Sample by taking only the first batch of the dataset\n",
    "X_train_bis = X_train[0:10000] \n",
    "y_train_bis = y_train[0:10000]"
   ]
  },
  {
   "cell_type": "markdown",
   "metadata": {},
   "source": [
    "###  One hot encoding"
   ]
  },
  {
   "cell_type": "code",
   "execution_count": 95,
   "metadata": {},
   "outputs": [],
   "source": [
    "# specify the number of classes that are in the dataset, so we know how many neurons to compress the final layer down to \n",
    "y_train_bis = np_utils.to_categorical(y_train_bis)\n",
    "y_test = np_utils.to_categorical(y_test)\n",
    "class_num = y_test.shape[1]"
   ]
  },
  {
   "cell_type": "markdown",
   "metadata": {},
   "source": [
    "## • Creating the model"
   ]
  },
  {
   "cell_type": "markdown",
   "metadata": {},
   "source": [
    "### Convolutional layers"
   ]
  },
  {
   "cell_type": "code",
   "execution_count": 96,
   "metadata": {},
   "outputs": [],
   "source": [
    "# Create the model and add the first convolutional layer \n",
    "model = Sequential()\n",
    "\n",
    "# Add weight decay => add kernel_regularizer=l2(0.01) as parameter and comment Dropout lines \n",
    "model.add(Conv2D(32, (3, 3), input_shape=X_train.shape[1:], padding='same',  kernel_regularizer=l2(0.001))) # 32 filters, window of 3x3 pixels\n",
    "model.add(Activation('relu')) \n",
    "\n",
    "# It means that you randomly select 20% (if dropout = 0.2) of the neurons and set their weights to zero for the forward and backward passes i.e. for one iteration.\n",
    "dropoutValue = 0.4\n",
    "#model.add(Dropout(dropoutValue)) \n",
    "\n",
    "# Batch normalization\n",
    "model.add(BatchNormalization())\n",
    "\n",
    "# Repeat until 128 \n",
    "model.add(Conv2D(64, (3, 3), padding='same',  kernel_regularizer=l2(0.001)))\n",
    "model.add(Activation('relu'))\n",
    "model.add(MaxPooling2D(pool_size=(2, 2)))\n",
    "#model.add(GaussianNoise(0.4)) # add noise\n",
    "#model.add(Dropout(dropoutValue))\n",
    "model.add(BatchNormalization())\n",
    "\n",
    "model.add(Conv2D(128, (3, 3), padding='same', kernel_regularizer=l2(0.001)))\n",
    "model.add(Activation('relu'))\n",
    "#model.add(Dropout(dropoutValue))\n",
    "model.add(BatchNormalization())"
   ]
  },
  {
   "cell_type": "markdown",
   "metadata": {},
   "source": [
    "### Flatten"
   ]
  },
  {
   "cell_type": "code",
   "execution_count": 97,
   "metadata": {},
   "outputs": [],
   "source": [
    "model.add(Flatten())\n",
    "#model.add(Dropout(dropoutValue))"
   ]
  },
  {
   "cell_type": "markdown",
   "metadata": {},
   "source": [
    "### Fully-connected layer (Dense layers)"
   ]
  },
  {
   "cell_type": "code",
   "execution_count": 98,
   "metadata": {},
   "outputs": [],
   "source": [
    "model.add(Dense(256, kernel_constraint=maxnorm(3)))\n",
    "model.add(Activation('relu'))\n",
    "#model.add(Dropout(dropoutValue))\n",
    "model.add(BatchNormalization())\n",
    "\n",
    "model.add(Dense(128, kernel_constraint=maxnorm(3)))\n",
    "model.add(Activation('relu'))\n",
    "#model.add(Dropout(dropoutValue))\n",
    "model.add(BatchNormalization())\n",
    "\n",
    "# Last layer : 10 neurons representing 10 possible outputs \n",
    "model.add(Dense(class_num))\n",
    "model.add(Activation('softmax'))"
   ]
  },
  {
   "cell_type": "markdown",
   "metadata": {},
   "source": [
    "## • Model compilation"
   ]
  },
  {
   "cell_type": "code",
   "execution_count": 99,
   "metadata": {},
   "outputs": [
    {
     "name": "stdout",
     "output_type": "stream",
     "text": [
      "_________________________________________________________________\n",
      "Layer (type)                 Output Shape              Param #   \n",
      "=================================================================\n",
      "conv2d_17 (Conv2D)           (None, 32, 32, 32)        896       \n",
      "_________________________________________________________________\n",
      "activation_31 (Activation)   (None, 32, 32, 32)        0         \n",
      "_________________________________________________________________\n",
      "batch_normalization_26 (Batc (None, 32, 32, 32)        128       \n",
      "_________________________________________________________________\n",
      "conv2d_18 (Conv2D)           (None, 32, 32, 64)        18496     \n",
      "_________________________________________________________________\n",
      "activation_32 (Activation)   (None, 32, 32, 64)        0         \n",
      "_________________________________________________________________\n",
      "max_pooling2d_6 (MaxPooling2 (None, 16, 16, 64)        0         \n",
      "_________________________________________________________________\n",
      "batch_normalization_27 (Batc (None, 16, 16, 64)        256       \n",
      "_________________________________________________________________\n",
      "conv2d_19 (Conv2D)           (None, 16, 16, 128)       73856     \n",
      "_________________________________________________________________\n",
      "activation_33 (Activation)   (None, 16, 16, 128)       0         \n",
      "_________________________________________________________________\n",
      "batch_normalization_28 (Batc (None, 16, 16, 128)       512       \n",
      "_________________________________________________________________\n",
      "flatten_6 (Flatten)          (None, 32768)             0         \n",
      "_________________________________________________________________\n",
      "dense_16 (Dense)             (None, 256)               8388864   \n",
      "_________________________________________________________________\n",
      "activation_34 (Activation)   (None, 256)               0         \n",
      "_________________________________________________________________\n",
      "batch_normalization_29 (Batc (None, 256)               1024      \n",
      "_________________________________________________________________\n",
      "dense_17 (Dense)             (None, 128)               32896     \n",
      "_________________________________________________________________\n",
      "activation_35 (Activation)   (None, 128)               0         \n",
      "_________________________________________________________________\n",
      "batch_normalization_30 (Batc (None, 128)               512       \n",
      "_________________________________________________________________\n",
      "dense_18 (Dense)             (None, 10)                1290      \n",
      "_________________________________________________________________\n",
      "activation_36 (Activation)   (None, 10)                0         \n",
      "=================================================================\n",
      "Total params: 8,518,730\n",
      "Trainable params: 8,517,514\n",
      "Non-trainable params: 1,216\n",
      "_________________________________________________________________\n",
      "None\n"
     ]
    }
   ],
   "source": [
    "epochs = 5 \n",
    "batch_size = 64\n",
    "optimizer = 'adagrad'\n",
    "\n",
    "model.compile(loss='categorical_crossentropy', optimizer=optimizer, metrics=['accuracy'])\n",
    "print(model.summary())"
   ]
  },
  {
   "cell_type": "markdown",
   "metadata": {},
   "source": [
    "## • Data augmentation\n",
    "\n",
    "<b>Note:</b> Uncomment this following cell to try some data augmentation and comment the cell \"Model training\" "
   ]
  },
  {
   "cell_type": "code",
   "execution_count": 100,
   "metadata": {},
   "outputs": [
    {
     "data": {
      "text/plain": [
       "'\\n# create data generator\\ndatagen = ImageDataGenerator(width_shift_range=0.1, height_shift_range=0.1, horizontal_flip=True)\\n# prepare iterator\\nit_train = datagen.flow(X_train, y_train, batch_size=64)\\n# fit model\\nsteps = int(X_train.shape[0] / 64)\\nstart_time = time.time()\\nhistory = model.fit_generator(it_train, steps_per_epoch=steps, epochs=epochs, validation_data=(X_test, y_test))\\nprint(\"--- %s seconds ---\" % (time.time() - start_time))\\n'"
      ]
     },
     "execution_count": 100,
     "metadata": {},
     "output_type": "execute_result"
    }
   ],
   "source": [
    "'''\n",
    "# create data generator\n",
    "datagen = ImageDataGenerator(width_shift_range=0.1, height_shift_range=0.1, horizontal_flip=True)\n",
    "# prepare iterator\n",
    "it_train = datagen.flow(X_train, y_train, batch_size=64)\n",
    "# fit model\n",
    "steps = int(X_train.shape[0] / 64)\n",
    "start_time = time.time()\n",
    "history = model.fit_generator(it_train, steps_per_epoch=steps, epochs=epochs, validation_data=(X_test, y_test))\n",
    "print(\"--- %s seconds ---\" % (time.time() - start_time))\n",
    "'''"
   ]
  },
  {
   "cell_type": "markdown",
   "metadata": {},
   "source": [
    "## • Model training"
   ]
  },
  {
   "cell_type": "code",
   "execution_count": 101,
   "metadata": {},
   "outputs": [
    {
     "name": "stdout",
     "output_type": "stream",
     "text": [
      "Train on 10000 samples, validate on 10000 samples\n",
      "Epoch 1/5\n",
      "10000/10000 [==============================] - 101s 10ms/step - loss: 1.6744 - acc: 0.4512 - val_loss: 2.0158 - val_acc: 0.3450\n",
      "Epoch 2/5\n",
      "10000/10000 [==============================] - 99s 10ms/step - loss: 1.1091 - acc: 0.6505 - val_loss: 1.3153 - val_acc: 0.5780\n",
      "Epoch 3/5\n",
      "10000/10000 [==============================] - 96s 10ms/step - loss: 0.7284 - acc: 0.7955 - val_loss: 1.3244 - val_acc: 0.5722\n",
      "Epoch 4/5\n",
      "10000/10000 [==============================] - 97s 10ms/step - loss: 0.4098 - acc: 0.9181 - val_loss: 1.2979 - val_acc: 0.6007\n",
      "Epoch 5/5\n",
      "10000/10000 [==============================] - 93s 9ms/step - loss: 0.2222 - acc: 0.9789 - val_loss: 1.1940 - val_acc: 0.6419\n",
      "--- 486.2117021083832 seconds ---\n"
     ]
    }
   ],
   "source": [
    "np.random.seed(seed)\n",
    "start_time = time.time()\n",
    "history = model.fit(X_train_bis, y_train_bis, validation_data=(X_test, y_test), epochs=epochs, batch_size=batch_size)\n",
    "print(\"--- %s seconds ---\" % (time.time() - start_time)) "
   ]
  },
  {
   "cell_type": "markdown",
   "metadata": {},
   "source": [
    "## • Model evaluation"
   ]
  },
  {
   "cell_type": "code",
   "execution_count": 102,
   "metadata": {},
   "outputs": [
    {
     "name": "stdout",
     "output_type": "stream",
     "text": [
      "10000/10000 [==============================] - 16s 2ms/step\n",
      "accuracy > 64.190\n"
     ]
    }
   ],
   "source": [
    "# Model evaluation\n",
    "_, acc = model.evaluate(X_test, y_test)\n",
    "print('accuracy > %.3f' % (acc * 100.0))"
   ]
  },
  {
   "cell_type": "markdown",
   "metadata": {},
   "source": [
    "---------------------------------------------------------------------------------------------------------\n",
    "---------------------------------------------------------------------------------------------------------\n",
    "\n",
    "## --- Results accuracy ---\n",
    "\n",
    "<b> Note: </b> These tests are performed over 5 epochs. As we use sampling to avoid multiple large execution times, the results may be quite lower compared to if we have used the whole dataset. But these results are representatives and should respect proportions.  Nevertheless, concerning the regularizers, we also test with the whole dataset. \n",
    "\n",
    "#### Testing optimizers (baseline):\n",
    "<i> With sampled dataset | Batch Size = 64 </i> \n",
    "- Optimizer RMSPROP : <b>54.640%</b>\n",
    "- Optimizer ADAM : <b>61.220%</b>\n",
    "- Optimizer SGD : <b>51.720%</b>\n",
    "- Optimizer ADAGRAD : <font color=\"red\"><b>63.490%</b></font> \n",
    "- Optimizer ADADELTA : <b>55.770%</b> \n",
    "\n",
    "### To counter overfitting : \n",
    "#### 1. Testing dropout values : \n",
    "<i> With sampled dataset | Batch Size = 64 | Optimizer ADAGRAD </i> \n",
    "- No dropout : <font color=\"red\"><b>63.490%</b></font> \n",
    "- With dropout of 0.1 : <b>55.530%</b> \n",
    "- With dropout of 0.2 : <b>57.840%</b> \n",
    "- With dropout of 0.4 : <b>45.140%</b> \n",
    "\n",
    "<i> With the whole dataset | Batch Size = 64 | Optimizer ADAGRAD </i> \n",
    "- No dropout : <b>76.13%</b>\n",
    "- With dropout of 0.1 : <b>76.51%</b> \n",
    "- With dropout of 0.2 : <b>78.140%</b> \n",
    "- With dropout of 0.4 : <b>59.890%</b> \n",
    "\n",
    "#### 2. Testing weight decay : \n",
    "<i> With sampled dataset | Batch Size = 64 | Optimizer ADAGRAD  </i> \n",
    "- No weight decay : <b>63.490%</b>\n",
    "- With weight decay of 0.001 : <font color=\"red\"><b>64.190%</b></font>\n",
    "- With weight decay of 0.01 : <b>60.140%</b> \n",
    "\n",
    "<i> With the whole dataset | Batch Size = 64 | Optimizer ADAGRAD  </i> \n",
    "- No weight decay : <b>76.13%</b>\n",
    "- With weight decay of 0.001 : <font color=\"red\"><b>77.470%</b></font>\n",
    "- With weight decay of 0.01 : <b>76.090%</b>\n",
    "\n",
    "\n",
    "#### 3. Testing simple data augmentation : \n",
    "<i> With sampled dataset | Batch Size = 64 | Optimizer ADAGRAD  </i> \n",
    "- With horizontal flip, minor shifts of the image, and small zooming : <font color=\"red\"><b>64.810%</b></font> \n",
    "\n",
    "<i> With the whole dataset | Batch Size = 64 | Optimizer ADAGRAD  </i> \n",
    "- With horizontal flip, minor shifts of the image, and small zooming : <font color=\"red\"><b>78.410%</b></font>  \n",
    "\n",
    "### Testing with noise added : \n",
    "<i> With sampled dataset | Batch Size = 64 | Optimizer ADAGRAD </i> \n",
    "- No noise : <b>63.490%</b>\n",
    "- Gaussian noise of 0.1 : <font color=\"red\"><b>64.760%</b></font> \n",
    "- Gaussian noise of 0.2 : <b>60.710%</b>\n",
    "- Gaussian noise of 0.4 : <b>62.080%</b>\n",
    "\n",
    "<i> With the whole dataset | Batch Size = 64 | Optimizer ADAGRAD </i> \n",
    "- No noise : <font color=\"red\"><b>76.13%</b></font> \n",
    "- Gaussian noise of 0.1 : <b>75.520%</b>\n",
    "- Gaussian noise of 0.2 : <b>75.960%</b>\n",
    "- Gaussian noise of 0.4 : <b>75.230%</b>\n",
    "\n",
    "### Testing epochs values : \n",
    "\n",
    "<i> On 40 epochs, Batch Size = 64 | No dropout | Optimizer ADAGRAD </i>"
   ]
  },
  {
   "cell_type": "code",
   "execution_count": 103,
   "metadata": {},
   "outputs": [],
   "source": [
    "# plot diagnostic learning curves\n",
    "def summarize_diagnostics_by_epochs(history):\n",
    "    # summarize history for accuracy\n",
    "    plt.plot(history.history['acc'])\n",
    "    plt.plot(history.history['val_acc'])\n",
    "    plt.title('model accuracy')\n",
    "    plt.ylabel('accuracy')\n",
    "    plt.xlabel('epoch')\n",
    "    plt.legend(['train', 'test'], loc='upper left')\n",
    "    plt.show()\n",
    "    # summarize history for loss --> https://ml-cheatsheet.readthedocs.io/en/latest/loss_functions.html\n",
    "    plt.plot(history.history['loss'])\n",
    "    plt.plot(history.history['val_loss'])\n",
    "    plt.title('model loss')\n",
    "    plt.ylabel('loss')\n",
    "    plt.xlabel('epoch')\n",
    "    plt.legend(['train', 'test'], loc='upper left')\n",
    "    plt.show()"
   ]
  },
  {
   "cell_type": "code",
   "execution_count": 104,
   "metadata": {},
   "outputs": [
    {
     "data": {
      "image/png": "[encoded data removed]",
      "text/plain": [
       "<Figure size 432x288 with 1 Axes>"
      ]
     },
     "metadata": {
      "needs_background": "light"
     },
     "output_type": "display_data"
    },
    {
     "data": {
      "image/png": "[encoded data removed]",
      "text/plain": [
       "<Figure size 432x288 with 1 Axes>"
      ]
     },
     "metadata": {
      "needs_background": "light"
     },
     "output_type": "display_data"
    }
   ],
   "source": [
    "summarize_diagnostics_by_epochs(history)"
   ]
  }
 ],
 "metadata": {
  "kernelspec": {
   "display_name": "Python 3.6 (tensorflow)",
   "language": "python",
   "name": "tensorflow"
  },
  "language_info": {
   "codemirror_mode": {
    "name": "ipython",
    "version": 3
   },
   "file_extension": ".py",
   "mimetype": "text/x-python",
   "name": "python",
   "nbconvert_exporter": "python",
   "pygments_lexer": "ipython3",
   "version": "3.6.9"
  }
 },
 "nbformat": 4,
 "nbformat_minor": 2
}
