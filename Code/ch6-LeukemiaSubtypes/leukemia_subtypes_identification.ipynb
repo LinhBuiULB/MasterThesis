{
 "cells": [
  {
   "cell_type": "markdown",
   "metadata": {},
   "source": [
    "# Leukemia Subtypes Recognition \n",
    "###  → See Section 6 in Master Thesis : \"Identification of Leukemia Subtypes\" "
   ]
  },
  {
   "cell_type": "markdown",
   "metadata": {},
   "source": [
    "## • Imports & preprocessing "
   ]
  },
  {
   "cell_type": "code",
   "execution_count": null,
   "metadata": {
    "colab": {},
    "colab_type": "code",
    "id": "qhjcrRQnN1Sr"
   },
   "outputs": [],
   "source": [
    "# This Python 3 environment comes with many helpful anal,ytics libraries installed\n",
    "# It is defined by the kaggle/python docker image: https://github.com/kaggle/docker-python\n",
    "# For example, here's several helpful packages to load in \n",
    "\n",
    "import numpy as np # linear algebra\n",
    "import pandas as pd # data processing, CSV file I/O (e.g. pd.read_csv)\n",
    "from keras.models import Sequential\n",
    "from keras.layers import Dense, Dropout, Flatten, BatchNormalization, GaussianNoise\n",
    "from keras.layers.convolutional import Convolution2D\n",
    "from keras.layers.convolutional import MaxPooling2D\n",
    "from sklearn.preprocessing import LabelEncoder,OneHotEncoder\n",
    "from keras.utils.np_utils import to_categorical\n",
    "from sklearn.model_selection import train_test_split\n",
    "\n",
    "from keras import backend as K\n",
    "\n",
    "import matplotlib.pyplot as plt\n",
    "\n",
    "import allidb1_preproc"
   ]
  },
  {
   "cell_type": "code",
   "execution_count": null,
   "metadata": {
    "colab": {},
    "colab_type": "code",
    "id": "UzLT6hyVN1Sw"
   },
   "outputs": [],
   "source": [
    "dataset_folder = 'ALL_IDB1/resized_im'\n",
    "\n",
    "# Resize img folder (size divided by 10)\n",
    "#preprocess.resize_folder(\"Datasets/ALL_IDB1/im\")\n",
    "\n",
    "# Create CSV from img folder\n",
    "#myFileList = allidb1_preproc.createFileList(dataset_folder) \n",
    "#allidb1_preproc.data_to_CSV(myFileList) # Uncomment to create the CSV file \n",
    "\n",
    "# get Y labels from the data \n",
    "myFileListForY = allidb1_preproc.createFileList(dataset_folder)\n",
    "y = allidb1_preproc.get_yLabels(myFileListForY)\n",
    "print(y)"
   ]
  },
  {
   "cell_type": "markdown",
   "metadata": {},
   "source": [
    "## • Training set & test set definition"
   ]
  },
  {
   "cell_type": "code",
   "execution_count": null,
   "metadata": {
    "colab": {},
    "colab_type": "code",
    "id": "ThtyRsY-N1S1"
   },
   "outputs": [],
   "source": [
    "# Read training and test data files\n",
    "csv_file = \"csv/resizedALLIDB1-color.csv\"\n",
    "\n",
    "data = pd.read_csv(csv_file)\n",
    "X_train, X_test, y_train, y_test = train_test_split(data, y, test_size=0.2) \n",
    "\n",
    "print(\"\\nX_train:\\n\")\n",
    "print(X_train.head())\n",
    "print(X_train.shape)\n",
    "\n",
    "print(\"\\nX_test:\\n\")\n",
    "print(X_test.head())\n",
    "print(X_test.shape)\n",
    "\n",
    "X_train = X_train.values\n",
    "X_test = X_test.values "
   ]
  },
  {
   "cell_type": "code",
   "execution_count": null,
   "metadata": {
    "colab": {},
    "colab_type": "code",
    "id": "_NkXYmNtN1S9"
   },
   "outputs": [],
   "source": [
    "img_size = 100 \n",
    "\n",
    "# normalize the inputs from 0-255 to between 0 and 1 by dividing by 255\n",
    "trainX = X_train.reshape(X_train.shape[0],1,img_size, img_size).astype( 'float32' )\n",
    "X_train = trainX / 255.0 \n",
    "\n",
    "testX = X_test.reshape(X_test.shape[0],1,img_size, img_size).astype( 'float32' )\n",
    "X_test = testX / 255.0 "
   ]
  },
  {
   "cell_type": "code",
   "execution_count": null,
   "metadata": {
    "colab": {},
    "colab_type": "code",
    "id": "cYlW881ZN1TB"
   },
   "outputs": [],
   "source": [
    "# specify the number of classes that are in the dataset, so we know how many neurons to compress the final layer down to \n",
    "y_train = to_categorical(y_train)\n",
    "y_test = to_categorical(y_test)\n",
    "\n",
    "class_num = y_test.shape[1]"
   ]
  },
  {
   "cell_type": "markdown",
   "metadata": {},
   "source": [
    "## • Creating the CNN"
   ]
  },
  {
   "cell_type": "code",
   "execution_count": null,
   "metadata": {
    "colab": {},
    "colab_type": "code",
    "id": "3XpMBXt8N1TF"
   },
   "outputs": [],
   "source": [
    "model = Sequential()\n",
    "K.common.set_image_dim_ordering('th')\n",
    "\n",
    "dropoutValue = 0.1 # why bad? https://stats.stackexchange.com/questions/299292/dropout-makes-performance-wors\n",
    "noiseValue = 0.8\n",
    "\n",
    "model.add(Convolution2D(32, (3, 3), input_shape=(1, img_size, img_size), activation= 'relu' ))\n",
    "#model.add(Dropout(dropoutValue)) \n",
    "model.add(BatchNormalization())\n",
    "model.add(MaxPooling2D(pool_size=(2, 2)))\n",
    "#model.add(GaussianNoise(noiseValue)) # add noise\n",
    "model.add(Convolution2D(64, (3, 3), activation= 'relu' ))\n",
    "#model.add(Dropout(dropoutValue)) \n",
    "model.add(BatchNormalization())\n",
    "model.add(MaxPooling2D(pool_size=(2, 2)))\n",
    "#model.add(GaussianNoise(noiseValue)) # add noise\n",
    "\n",
    "model.add(Flatten())\n",
    "\n",
    "model.add(Dense(128, activation= 'relu' ))\n",
    "#model.add(Dropout(dropoutValue)) \n",
    "model.add(BatchNormalization())\n",
    "model.add(Dense(64, activation= 'relu' ))\n",
    "#model.add(Dropout(dropoutValue)) \n",
    "model.add(BatchNormalization())\n",
    "model.add(Dense(class_num, activation= 'softmax' ))"
   ]
  },
  {
   "cell_type": "code",
   "execution_count": null,
   "metadata": {
    "colab": {},
    "colab_type": "code",
    "id": "ppGu_gphN1TJ"
   },
   "outputs": [],
   "source": [
    " # Compile model\n",
    "model.compile(loss= 'categorical_crossentropy' , optimizer= 'adam' , metrics=[ 'accuracy' ])\n",
    "print(model.summary())"
   ]
  },
  {
   "cell_type": "code",
   "execution_count": null,
   "metadata": {
    "colab": {},
    "colab_type": "code",
    "id": "hbLsFLm1N1TN"
   },
   "outputs": [],
   "source": [
    "history = model.fit(X_train, y_train, validation_data=(X_test, y_test), epochs=25,batch_size=32)"
   ]
  },
  {
   "cell_type": "code",
   "execution_count": null,
   "metadata": {
    "scrolled": true
   },
   "outputs": [],
   "source": [
    "print(\"Acc :\\n\")\n",
    "print(history.history['acc'])\n",
    "print(\"\\n\")\n",
    "print(\"Loss :\\n\")\n",
    "print(history.history['loss'])\n",
    "\n",
    "print(\"\\n\")\n",
    "\n",
    "print(\"Val_acc :\\n\")\n",
    "print(history.history['val_acc'])\n",
    "print(\"\\n\")\n",
    "print(\"Val_loss :\\n\")\n",
    "print(history.history['val_loss'])"
   ]
  },
  {
   "cell_type": "code",
   "execution_count": null,
   "metadata": {
    "colab": {},
    "colab_type": "code",
    "id": "5s4O3APvN1TW"
   },
   "outputs": [],
   "source": [
    "# Model evaluation\n",
    "_, acc = model.evaluate(X_test, y_test)\n",
    "print('accuracy > %.3f' % (acc * 100.0))"
   ]
  },
  {
   "cell_type": "code",
   "execution_count": null,
   "metadata": {},
   "outputs": [],
   "source": [
    "# plot diagnostic learning curves\n",
    "def summarize_diagnostics_by_epochs(history):\n",
    "    # summarize history for accuracy\n",
    "    plt.plot(history.history['acc'])\n",
    "    plt.plot(history.history['val_acc'])\n",
    "    plt.title('model accuracy')\n",
    "    plt.ylabel('accuracy')\n",
    "    plt.xlabel('epoch')\n",
    "    plt.ylim(0, 1.1)\n",
    "    plt.legend(['train', 'test'], loc='upper left')\n",
    "    plt.show()\n",
    "    # summarize history for loss --> https://ml-cheatsheet.readthedocs.io/en/latest/loss_functions.html\n",
    "    # https://towardsdatascience.com/machine-learning-fundamentals-via-linear-regression-41a5d11f5220\n",
    "    # https://datascience.stackexchange.com/questions/25267/keras-difference-beetween-val-loss-and-loss-during-training\n",
    "    plt.plot(history.history['loss'])\n",
    "    plt.plot(history.history['val_loss'])\n",
    "    plt.title('model loss')\n",
    "    plt.ylabel('loss')\n",
    "    plt.xlabel('epoch')\n",
    "    plt.ylim(0, 12)\n",
    "    plt.legend(['train', 'test'], loc='upper left')\n",
    "    plt.show()\n",
    "\n",
    "summarize_diagnostics_by_epochs(history)"
   ]
  },
  {
   "cell_type": "code",
   "execution_count": null,
   "metadata": {},
   "outputs": [],
   "source": []
  }
 ],
 "metadata": {
  "colab": {
   "collapsed_sections": [],
   "name": "allidb1_recognition.ipynb",
   "provenance": [],
   "toc_visible": true
  },
  "kernelspec": {
   "display_name": "Python 3.6 (tensorflow)",
   "language": "python",
   "name": "tensorflow"
  },
  "language_info": {
   "codemirror_mode": {
    "name": "ipython",
    "version": 3
   },
   "file_extension": ".py",
   "mimetype": "text/x-python",
   "name": "python",
   "nbconvert_exporter": "python",
   "pygments_lexer": "ipython3",
   "version": "3.6.9"
  }
 },
 "nbformat": 4,
 "nbformat_minor": 1
}
