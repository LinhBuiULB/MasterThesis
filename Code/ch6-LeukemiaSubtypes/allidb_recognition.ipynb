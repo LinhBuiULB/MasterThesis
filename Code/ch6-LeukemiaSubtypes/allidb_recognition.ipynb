{
 "cells": [
  {
   "cell_type": "markdown",
   "metadata": {},
   "source": [
    "# ALL-IDB Dataset Recognition \n",
    "###  → See Section 6 in Master Thesis : \"Identification of Leukemia Subtypes\" "
   ]
  },
  {
   "cell_type": "markdown",
   "metadata": {},
   "source": [
    "## • Imports & preprocessing "
   ]
  },
  {
   "cell_type": "code",
   "execution_count": 100,
   "metadata": {
    "colab": {},
    "colab_type": "code",
    "id": "qhjcrRQnN1Sr"
   },
   "outputs": [],
   "source": [
    "# This Python 3 environment comes with many helpful anal,ytics libraries installed\n",
    "# It is defined by the kaggle/python docker image: https://github.com/kaggle/docker-python\n",
    "# For example, here's several helpful packages to load in \n",
    "\n",
    "import numpy as np # linear algebra\n",
    "import pandas as pd # data processing, CSV file I/O (e.g. pd.read_csv)\n",
    "from keras.models import Sequential\n",
    "from keras.layers import Dense, Dropout, Flatten, BatchNormalization\n",
    "from keras.layers.convolutional import Convolution2D\n",
    "from keras.layers.convolutional import MaxPooling2D\n",
    "from sklearn.preprocessing import LabelEncoder,OneHotEncoder\n",
    "from keras.utils.np_utils import to_categorical\n",
    "from sklearn.model_selection import train_test_split\n",
    "\n",
    "from keras import backend as K\n",
    "\n",
    "import matplotlib.pyplot as plt\n",
    "\n",
    "import allidb1_preproc"
   ]
  },
  {
   "cell_type": "code",
   "execution_count": 101,
   "metadata": {
    "colab": {},
    "colab_type": "code",
    "id": "UzLT6hyVN1Sw"
   },
   "outputs": [
    {
     "name": "stdout",
     "output_type": "stream",
     "text": [
      "ALL_IDB2/resized_im_data_aug\n",
      "ALL_IDB2/resized_im_data_aug\n",
      "[[1], [1], [1], [1], [1], [1], [1], [1], [1], [1], [1], [1], [1], [1], [1], [1], [1], [1], [1], [1], [1], [1], [1], [1], [1], [1], [1], [1], [1], [1], [1], [1], [1], [1], [1], [1], [1], [1], [1], [1], [1], [1], [1], [1], [1], [1], [1], [1], [1], [1], [1], [1], [1], [1], [1], [1], [1], [1], [1], [1], [1], [1], [1], [1], [1], [1], [1], [1], [1], [1], [1], [1], [1], [1], [1], [1], [1], [1], [1], [1], [1], [1], [1], [1], [1], [1], [1], [1], [1], [1], [1], [1], [1], [1], [1], [1], [1], [1], [1], [1], [1], [1], [1], [1], [1], [1], [1], [1], [1], [1], [1], [1], [1], [1], [1], [1], [1], [1], [1], [1], [1], [1], [1], [1], [1], [1], [1], [1], [1], [1], [1], [1], [1], [1], [1], [1], [1], [1], [1], [1], [1], [1], [1], [1], [1], [1], [1], [1], [1], [1], [1], [1], [1], [1], [1], [1], [1], [1], [1], [1], [1], [1], [1], [1], [1], [1], [1], [1], [1], [1], [1], [1], [1], [1], [1], [1], [1], [1], [1], [1], [1], [1], [1], [1], [1], [1], [1], [1], [1], [1], [1], [1], [1], [1], [1], [1], [1], [1], [1], [1], [1], [1], [1], [1], [1], [1], [1], [1], [1], [1], [1], [1], [1], [1], [1], [1], [1], [1], [1], [1], [1], [1], [1], [1], [1], [1], [1], [1], [1], [1], [1], [0], [0], [0], [0], [0], [0], [0], [0], [0], [0], [0], [0], [0], [0], [0], [0], [0], [0], [0], [0], [0], [0], [0], [0], [0], [0], [0], [0], [0], [0], [0], [0], [0], [0], [0], [0], [0], [0], [0], [0], [0], [0], [0], [0], [0], [0], [0], [0], [0], [0], [0], [0], [0], [0], [0], [0], [0], [0], [0], [0], [0], [0], [0], [0], [0], [0], [0], [0], [0], [0], [0], [0], [0], [0], [0], [0], [0], [0], [0], [0], [0], [0], [0], [0], [0], [0], [0], [0], [0], [0], [0], [0], [0], [0], [0], [0], [0], [0], [0], [0], [0], [0], [0], [0], [0], [0], [0], [0], [0], [0], [0], [0], [0], [0], [0], [0], [0], [0], [0], [0], [0], [0], [0], [0], [0], [0], [0], [0], [0], [0], [0], [0], [0], [0], [0], [0], [0], [0], [0], [0], [0], [0], [0], [0], [0], [0], [0], [0], [0], [0], [0], [0], [0], [0], [0], [0], [0], [0], [0], [0], [0], [0], [0], [0], [0], [0], [0], [0], [0], [0], [0], [0], [0], [0], [0], [0], [0], [0], [0], [0], [0], [0], [0], [0], [0], [0], [0], [0], [0], [0], [0], [0], [0], [0], [0], [0], [0], [0], [0], [0], [0], [0], [0], [0], [0], [0], [0], [0], [0], [0], [0], [0], [0], [0], [0], [0], [0], [0], [0], [0], [0], [0], [0], [0], [0], [0], [0], [0], [0], [0], [0]]\n"
     ]
    }
   ],
   "source": [
    "# Resize img folder (size divided by 10)\n",
    "#preprocess.resize_folder(\"Datasets/ALL_IDB1/im\")\n",
    "\n",
    "# Create CSV from img folder\n",
    "myFileList = allidb1_preproc.createFileList('ALL_IDB2/resized_im_data_aug') \n",
    "#allidb1_preproc.data_to_CSV(myFileList) # Uncomment to create the CSV file \n",
    "\n",
    "# get Y labels from the data \n",
    "myFileListForY = allidb1_preproc.createFileList('ALL_IDB2/resized_im_data_aug') # ne met pas les images dans l'ordre donc y erroné#\n",
    "y = allidb1_preproc.get_yLabels(myFileListForY)\n",
    "#y = [[1], [1], [1], [1], [1], [1], [1], [1], [1], [1], [1], [1], [1], [1], [1], [1], [1], [1], [1], [1], [1], [1], [1], [1], [1], [1], [1], [1], [1], [1], [1], [1], [1], [0], [0], [0], [0], [0], [0], [0], [0], [0], [0], [0], [0], [0], [0], [1], [1], [1], [1], [1], [1], [1], [1], [1], [1], [1], [1], [1], [1], [1], [1], [0], [0], [0], [0], [0], [0], [0], [0], [0], [0], [0], [0], [0], [0], [0], [0], [0], [0], [0], [0], [0], [0], [0], [0], [0], [0], [0], [0], [0], [0], [0], [0], [0], [0], [0], [0], [0], [0], [0], [0], [0], [0], [0], [0], [0]]\n",
    "print(y)"
   ]
  },
  {
   "cell_type": "markdown",
   "metadata": {},
   "source": [
    "## • Training set & test set definition"
   ]
  },
  {
   "cell_type": "code",
   "execution_count": 102,
   "metadata": {
    "colab": {},
    "colab_type": "code",
    "id": "ThtyRsY-N1S1"
   },
   "outputs": [
    {
     "name": "stdout",
     "output_type": "stream",
     "text": [
      "\n",
      "X_train:\n",
      "\n",
      "       0    1    2    3    4    5    6    7    8    9  ...  9990  9991  9992  \\\n",
      "216  150  150  150  151  152  153  155  157  158  156  ...   140   143   160   \n",
      "429  105  102  101  100   99  100  101   98   97   97  ...   105   106   105   \n",
      "267  160  164  153  135  134  133  132  136  138  139  ...   159   159   157   \n",
      "1    223  225  226  224  223  224  228  232  232  230  ...   235   235   235   \n",
      "3    128  128  127  128  130  132  134  135  137  137  ...   123   120   118   \n",
      "\n",
      "     9993  9994  9995  9996  9997  9998  9999  \n",
      "216   166   163   159   160   160   160   160  \n",
      "429   105   105   104   104   102    99    98  \n",
      "267   158   160   161   162   166   145   127  \n",
      "1     235   235   235   234   234   234   234  \n",
      "3     116   114   113   111   111   111   111  \n",
      "\n",
      "[5 rows x 10000 columns]\n",
      "(369, 10000)\n",
      "\n",
      "X_test:\n",
      "\n",
      "       0    1    2    3    4    5    6    7    8    9  ...  9990  9991  9992  \\\n",
      "22   127  127  131  141  152  158  161  164  166  166  ...   155   155   154   \n",
      "374  125  124  123  122  122  122  123  123  122  123  ...   156   156   156   \n",
      "300  151  151  148  145  141  136  132  128  127  129  ...   146   146   145   \n",
      "433  115  123  124  124  122  123  127  121  108  102  ...   119   120   116   \n",
      "292    1    1    1    1    1    1    1    1    0    0  ...     0     0     0   \n",
      "\n",
      "     9993  9994  9995  9996  9997  9998  9999  \n",
      "22    149   146   146   144   141   141   140  \n",
      "374   156   156   156   157   157   157   157  \n",
      "300   145   147   147   147   147   147   147  \n",
      "433   118   117   118   118   118   118   117  \n",
      "292     0     0     0     0     0     0     0  \n",
      "\n",
      "[5 rows x 10000 columns]\n",
      "(93, 10000)\n"
     ]
    }
   ],
   "source": [
    "# Read training and test data files\n",
    "data = pd.read_csv(\"resizedALLIDB2-data_aug.csv\")\n",
    "X_train, X_test, y_train, y_test = train_test_split(data, y, test_size=0.2) \n",
    "\n",
    "\n",
    "print(\"\\nX_train:\\n\")\n",
    "print(X_train.head())\n",
    "print(X_train.shape)\n",
    "\n",
    "print(\"\\nX_test:\\n\")\n",
    "print(X_test.head())\n",
    "print(X_test.shape)\n",
    "\n",
    "X_train = X_train.values\n",
    "X_test = X_test.values "
   ]
  },
  {
   "cell_type": "code",
   "execution_count": 103,
   "metadata": {
    "colab": {},
    "colab_type": "code",
    "id": "VXj20yT5N1S5"
   },
   "outputs": [
    {
     "name": "stdout",
     "output_type": "stream",
     "text": [
      "369\n",
      "369\n"
     ]
    }
   ],
   "source": [
    "print(len(X_train))\n",
    "print(len(y_train))"
   ]
  },
  {
   "cell_type": "code",
   "execution_count": 104,
   "metadata": {
    "colab": {},
    "colab_type": "code",
    "id": "_NkXYmNtN1S9"
   },
   "outputs": [],
   "source": [
    "# normalize the inputs from 0-255 to between 0 and 1 by dividing by 255\n",
    "trainX = X_train.reshape(X_train.shape[0],1,100, 100).astype( 'float32' )\n",
    "X_train = trainX / 255.0 \n",
    "\n",
    "testX = X_test.reshape(X_test.shape[0],1,100, 100).astype( 'float32' )\n",
    "X_test = testX / 255.0 "
   ]
  },
  {
   "cell_type": "code",
   "execution_count": 105,
   "metadata": {
    "colab": {},
    "colab_type": "code",
    "id": "cYlW881ZN1TB"
   },
   "outputs": [],
   "source": [
    "# specify the number of classes that are in the dataset, so we know how many neurons to compress the final layer down to \n",
    "y_train = to_categorical(y_train)\n",
    "y_test = to_categorical(y_test)\n",
    "\n",
    "class_num = y_test.shape[1]"
   ]
  },
  {
   "cell_type": "markdown",
   "metadata": {},
   "source": [
    "## • Creating the CNN"
   ]
  },
  {
   "cell_type": "code",
   "execution_count": 106,
   "metadata": {
    "colab": {},
    "colab_type": "code",
    "id": "3XpMBXt8N1TF"
   },
   "outputs": [],
   "source": [
    "model = Sequential()\n",
    "K.common.set_image_dim_ordering('th')\n",
    "\n",
    "dropoutValue = 0.1 # why bad? https://stats.stackexchange.com/questions/299292/dropout-makes-performance-wors\n",
    "\n",
    "model.add(Convolution2D(32, (3, 3), input_shape=(1, 100, 100), activation= 'relu' ))\n",
    "model.add(Dropout(dropoutValue)) \n",
    "model.add(BatchNormalization())\n",
    "model.add(MaxPooling2D(pool_size=(2, 2)))\n",
    "model.add(Convolution2D(64, (3, 3), activation= 'relu' ))\n",
    "model.add(Dropout(dropoutValue)) \n",
    "model.add(BatchNormalization())\n",
    "#model.add(MaxPooling2D(pool_size=(2, 2)))\n",
    "\n",
    "model.add(Flatten())\n",
    "\n",
    "model.add(Dense(128, activation= 'relu' ))\n",
    "model.add(Dropout(dropoutValue)) \n",
    "model.add(BatchNormalization())\n",
    "model.add(Dense(64, activation= 'relu' ))\n",
    "model.add(Dropout(dropoutValue)) \n",
    "model.add(BatchNormalization())\n",
    "model.add(Dense(class_num, activation= 'softmax' ))"
   ]
  },
  {
   "cell_type": "code",
   "execution_count": 107,
   "metadata": {
    "colab": {},
    "colab_type": "code",
    "id": "ppGu_gphN1TJ"
   },
   "outputs": [
    {
     "name": "stdout",
     "output_type": "stream",
     "text": [
      "_________________________________________________________________\n",
      "Layer (type)                 Output Shape              Param #   \n",
      "=================================================================\n",
      "conv2d_19 (Conv2D)           (None, 32, 98, 98)        320       \n",
      "_________________________________________________________________\n",
      "dropout_17 (Dropout)         (None, 32, 98, 98)        0         \n",
      "_________________________________________________________________\n",
      "batch_normalization_37 (Batc (None, 32, 98, 98)        392       \n",
      "_________________________________________________________________\n",
      "max_pooling2d_19 (MaxPooling (None, 32, 49, 49)        0         \n",
      "_________________________________________________________________\n",
      "conv2d_20 (Conv2D)           (None, 64, 47, 47)        18496     \n",
      "_________________________________________________________________\n",
      "dropout_18 (Dropout)         (None, 64, 47, 47)        0         \n",
      "_________________________________________________________________\n",
      "batch_normalization_38 (Batc (None, 64, 47, 47)        188       \n",
      "_________________________________________________________________\n",
      "max_pooling2d_20 (MaxPooling (None, 64, 23, 23)        0         \n",
      "_________________________________________________________________\n",
      "flatten_10 (Flatten)         (None, 33856)             0         \n",
      "_________________________________________________________________\n",
      "dense_28 (Dense)             (None, 128)               4333696   \n",
      "_________________________________________________________________\n",
      "dropout_19 (Dropout)         (None, 128)               0         \n",
      "_________________________________________________________________\n",
      "batch_normalization_39 (Batc (None, 128)               512       \n",
      "_________________________________________________________________\n",
      "dense_29 (Dense)             (None, 64)                8256      \n",
      "_________________________________________________________________\n",
      "dropout_20 (Dropout)         (None, 64)                0         \n",
      "_________________________________________________________________\n",
      "batch_normalization_40 (Batc (None, 64)                256       \n",
      "_________________________________________________________________\n",
      "dense_30 (Dense)             (None, 2)                 130       \n",
      "=================================================================\n",
      "Total params: 4,362,246\n",
      "Trainable params: 4,361,572\n",
      "Non-trainable params: 674\n",
      "_________________________________________________________________\n",
      "None\n"
     ]
    }
   ],
   "source": [
    " # Compile model\n",
    "model.compile(loss= 'categorical_crossentropy' , optimizer= 'adam' , metrics=[ 'accuracy' ])\n",
    "print(model.summary())"
   ]
  },
  {
   "cell_type": "code",
   "execution_count": 108,
   "metadata": {
    "colab": {},
    "colab_type": "code",
    "id": "hbLsFLm1N1TN"
   },
   "outputs": [
    {
     "name": "stdout",
     "output_type": "stream",
     "text": [
      "Train on 369 samples, validate on 93 samples\n",
      "Epoch 1/25\n",
      "369/369 [==============================] - 18s 48ms/step - loss: 0.7736 - acc: 0.6531 - val_loss: 0.6420 - val_acc: 0.6989\n",
      "Epoch 2/25\n",
      "369/369 [==============================] - 15s 41ms/step - loss: 0.6240 - acc: 0.6667 - val_loss: 0.8389 - val_acc: 0.6667\n",
      "Epoch 3/25\n",
      "369/369 [==============================] - 15s 40ms/step - loss: 0.5611 - acc: 0.7344 - val_loss: 1.2870 - val_acc: 0.6559\n",
      "Epoch 4/25\n",
      "369/369 [==============================] - 15s 41ms/step - loss: 0.5846 - acc: 0.6938 - val_loss: 0.9044 - val_acc: 0.6022\n",
      "Epoch 5/25\n",
      "369/369 [==============================] - 15s 41ms/step - loss: 0.6248 - acc: 0.6721 - val_loss: 9.7055 - val_acc: 0.3978\n",
      "Epoch 6/25\n",
      "369/369 [==============================] - 15s 40ms/step - loss: 0.6884 - acc: 0.6314 - val_loss: 0.8137 - val_acc: 0.6667\n",
      "Epoch 7/25\n",
      "369/369 [==============================] - 15s 42ms/step - loss: 0.5427 - acc: 0.7534 - val_loss: 1.1562 - val_acc: 0.6022\n",
      "Epoch 8/25\n",
      "369/369 [==============================] - 15s 42ms/step - loss: 0.5034 - acc: 0.7398 - val_loss: 0.5290 - val_acc: 0.7204\n",
      "Epoch 9/25\n",
      "369/369 [==============================] - 16s 43ms/step - loss: 0.4376 - acc: 0.7886 - val_loss: 0.8887 - val_acc: 0.6882\n",
      "Epoch 10/25\n",
      "369/369 [==============================] - 15s 40ms/step - loss: 0.4317 - acc: 0.7778 - val_loss: 0.9711 - val_acc: 0.5914\n",
      "Epoch 11/25\n",
      "369/369 [==============================] - 15s 40ms/step - loss: 0.4141 - acc: 0.7859 - val_loss: 0.5522 - val_acc: 0.7097\n",
      "Epoch 12/25\n",
      "369/369 [==============================] - 15s 39ms/step - loss: 0.3945 - acc: 0.7967 - val_loss: 0.4746 - val_acc: 0.7742\n",
      "Epoch 13/25\n",
      "369/369 [==============================] - 15s 39ms/step - loss: 0.3722 - acc: 0.8401 - val_loss: 0.7278 - val_acc: 0.7634\n",
      "Epoch 14/25\n",
      "369/369 [==============================] - 14s 39ms/step - loss: 0.3686 - acc: 0.8238 - val_loss: 0.7917 - val_acc: 0.7742\n",
      "Epoch 15/25\n",
      "369/369 [==============================] - 15s 39ms/step - loss: 0.4244 - acc: 0.7859 - val_loss: 1.1346 - val_acc: 0.5591\n",
      "Epoch 16/25\n",
      "369/369 [==============================] - 14s 39ms/step - loss: 0.4394 - acc: 0.7805 - val_loss: 0.8592 - val_acc: 0.6237\n",
      "Epoch 17/25\n",
      "369/369 [==============================] - 15s 41ms/step - loss: 0.4157 - acc: 0.7751 - val_loss: 0.8100 - val_acc: 0.6882\n",
      "Epoch 18/25\n",
      "369/369 [==============================] - 15s 42ms/step - loss: 0.4070 - acc: 0.7751 - val_loss: 1.0661 - val_acc: 0.6129\n",
      "Epoch 19/25\n",
      "369/369 [==============================] - 15s 41ms/step - loss: 0.3476 - acc: 0.8591 - val_loss: 0.7368 - val_acc: 0.8065\n",
      "Epoch 20/25\n",
      "369/369 [==============================] - 15s 40ms/step - loss: 0.3990 - acc: 0.8184 - val_loss: 0.6913 - val_acc: 0.7312\n",
      "Epoch 21/25\n",
      "369/369 [==============================] - 15s 41ms/step - loss: 0.4268 - acc: 0.7940 - val_loss: 1.7655 - val_acc: 0.6022\n",
      "Epoch 22/25\n",
      "369/369 [==============================] - 15s 40ms/step - loss: 0.4261 - acc: 0.7805 - val_loss: 1.4514 - val_acc: 0.6237\n",
      "Epoch 23/25\n",
      "369/369 [==============================] - 15s 41ms/step - loss: 0.4045 - acc: 0.8130 - val_loss: 1.7630 - val_acc: 0.6022\n",
      "Epoch 24/25\n",
      "369/369 [==============================] - 16s 42ms/step - loss: 0.4196 - acc: 0.7940 - val_loss: 3.0940 - val_acc: 0.6022\n",
      "Epoch 25/25\n",
      "369/369 [==============================] - 15s 41ms/step - loss: 0.4121 - acc: 0.8049 - val_loss: 3.1486 - val_acc: 0.6022\n"
     ]
    }
   ],
   "source": [
    "history = model.fit(X_train, y_train, validation_data=(X_test, y_test), epochs=25,batch_size=32)"
   ]
  },
  {
   "cell_type": "code",
   "execution_count": 109,
   "metadata": {
    "colab": {},
    "colab_type": "code",
    "id": "5s4O3APvN1TW"
   },
   "outputs": [
    {
     "name": "stdout",
     "output_type": "stream",
     "text": [
      "93/93 [==============================] - 1s 9ms/step\n",
      "accuracy > 60.215\n"
     ]
    }
   ],
   "source": [
    "# Model evaluation\n",
    "_, acc = model.evaluate(X_test, y_test)\n",
    "print('accuracy > %.3f' % (acc * 100.0))"
   ]
  },
  {
   "cell_type": "code",
   "execution_count": 110,
   "metadata": {},
   "outputs": [
    {
     "data": {
      "image/png": "[encoded data removed]",
      "text/plain": [
       "<Figure size 432x288 with 1 Axes>"
      ]
     },
     "metadata": {
      "needs_background": "light"
     },
     "output_type": "display_data"
    },
    {
     "data": {
      "image/png": "[encoded data removed]",
      "text/plain": [
       "<Figure size 432x288 with 1 Axes>"
      ]
     },
     "metadata": {
      "needs_background": "light"
     },
     "output_type": "display_data"
    }
   ],
   "source": [
    "# plot diagnostic learning curves\n",
    "def summarize_diagnostics_by_epochs(history):\n",
    "    # summarize history for accuracy\n",
    "    plt.plot(history.history['acc'])\n",
    "    plt.plot(history.history['val_acc'])\n",
    "    plt.title('model accuracy')\n",
    "    plt.ylabel('accuracy')\n",
    "    plt.xlabel('epoch')\n",
    "    plt.legend(['train', 'test'], loc='upper left')\n",
    "    plt.show()\n",
    "    # summarize history for loss --> https://ml-cheatsheet.readthedocs.io/en/latest/loss_functions.html\n",
    "    plt.plot(history.history['loss'])\n",
    "    plt.plot(history.history['val_loss'])\n",
    "    plt.title('model loss')\n",
    "    plt.ylabel('loss')\n",
    "    plt.xlabel('epoch')\n",
    "    plt.legend(['train', 'test'], loc='upper left')\n",
    "    plt.show()\n",
    "\n",
    "summarize_diagnostics_by_epochs(history)"
   ]
  },
  {
   "cell_type": "markdown",
   "metadata": {},
   "source": [
    "---------------------------------------------------------------------------------------------------------\n",
    "---------------------------------------------------------------------------------------------------------\n",
    "\n",
    "## --- Results accuracy ---\n",
    "\n",
    "\n",
    "### • ALL-IDB1 (train set = 86 imgs, test set = 22 imgs)\n",
    "\n",
    "→ Preprocessing: size reduced to 100x100 | On 25 epochs and 32 batch size \n",
    "\n",
    "#### Baseline results (no dropout, no data augmentation) with color: \n",
    "- Run 1: <i>Train set:</i> 100.00% | <i>Test set:</i> 81.818%\n",
    "- Run 2: <i>Train set:</i> 100.00% | <i>Test set:</i> 72.727%\n",
    "- Run 3: <i>Train set:</i> 100.00% | <i>Test set:</i> 63.64%   \n",
    "- Run 4: <i>Train set:</i> 100.00% | <i>Test set:</i> 81.82%\n",
    "- Run 5: <i>Train set:</i> 100.00% | <i>Test set:</i> 72.73%\n",
    "- <b>Average:</b> <i>Train set:</i> <b>100.00%</b> | <i>Test set:</i> <b>74.54%</b> \n",
    "\n",
    "<center>Run 1 figure:</center>\n",
    "<img src=\"figures_result/all_idb1-baseline.png\">\n",
    "\n",
    "#### Baseline results (no dropout, no data augmentation) with greyscale:\n",
    "- Run 1: <i>Train set:</i> 100.00% | <i>Test set:</i> 45.455% \n",
    "- Run 2: <i>Train set:</i> 100.00% | <i>Test set:</i> 50.00%\n",
    "- Run 3: <i>Train set:</i> 100.00% | <i>Test set:</i> 72.72% \n",
    "- Run 4: <i>Train set:</i> 100.00% | <i>Test set:</i> 54.54%\n",
    "- Run 5: <i>Train set:</i> 100.00% | <i>Test set:</i> 59.09%\n",
    "- <b>Average:</b> <i>Train set:</i> <b>100.00%</b> | <i>Test set:</i> <b>56.36%</b> \n",
    "\n",
    "<center>Run 1 figure:</center>\n",
    "<img src=\"figures_result/all_idb1-grey.png\">\n",
    "\n",
    "#### Dropout of 0.1:\n",
    "- Run 1: <i>Train set:</i> 63.95% | <i>Test set:</i> 59.091%\n",
    "- Run 2: <i>Train set:</i> 66.28% | <i>Test set:</i> 68.18%\n",
    "- Run 3: <i>Train set:</i> 59.30% | <i>Test set:</i> 63.63%  \n",
    "- Run 4: <i>Train set:</i> 62.79% | <i>Test set:</i> 59.09%\n",
    "- Run 5: <i>Train set:</i> 68.60% | <i>Test set:</i> 54.545%\n",
    "- <b>Average:</b> <i>Train set:</i> <b>64.18%</b> | <i>Test set:</i> <b>60.9%</b> \n",
    "\n",
    "<center>Run 1 figure:</center>\n",
    "<img src=\"figures_result/all_idb1-dropout.png\">\n",
    "\n",
    "#### With data augmentation (Train set = 172 imgs, test set = 44 imgs): \n",
    "- Run 1: <i>Train set:</i> 100.00% | <i>Test set:</i> 61.364%  \n",
    "- Run 2: <i>Train set:</i> 99.42% | <i>Test set:</i> 56.818%\n",
    "- Run 3: <i>Train set:</i> 99.42% | <i>Test set:</i> 61.364%\n",
    "- Run 4: <i>Train set:</i> 97.67% | <i>Test set:</i> 70.45%\n",
    "- Run 5: <i>Train set:</i> 100.00% | <i>Test set:</i> 72.73%\n",
    "- <b>Average:</b> <i>Train set:</i> <b>99.3%</b> | <i>Test set:</i> <b>64.54%</b> \n",
    "\n",
    "<center>Run 1 figure:</center>\n",
    "<img src=\"figures_result/all_idb1-data_aug.png\">\n",
    "\n",
    "#### With dropout and data augmentation: \n",
    "- Run 1: <i>Train set:</i> 59.30% | <i>Test set:</i> 54.545%\n",
    "- Run 2: <i>Train set:</i> 61.05% | <i>Test set:</i> 52.273%\n",
    "- Run 3: <i>Train set:</i> 67.44% | <i>Test set:</i> 68.18% \n",
    "- Run 4: <i>Train set:</i> 70.35% | <i>Test set:</i> 65.91%\n",
    "- Run 5: <i>Train set:</i> 68.60% | <i>Test set:</i> 75.00% \n",
    "- <b>Average:</b> <i>Train set:</i> <b>65.34%</b> | <i>Test set:</i> <b>63.18%</b> \n",
    "\n",
    "<center>Run 1 figure:</center>\n",
    "<img src=\"figures_result/all_idb1-data_aug_and_dropout.png\">\n",
    "\n",
    "----------------------------------------------------------------------------------------------\n",
    "\n",
    "### • ALL-IDB2 (train set = 208 imgs, test set = 52 imgs)\n",
    "\n",
    "→ Preprocessing: size reduced to 100x100 | On 25 epochs and 32 batch size \n",
    "\n",
    "#### Baseline results (no dropout, no data augmentation) with color: \n",
    "- Run 1: <i>Train set:</i> 100.00% | <i>Test set:</i> 73.077%\n",
    "- Run 2: <i>Train set:</i> 99.52% | <i>Test set:</i> 71.154%\n",
    "- Run 3: <i>Train set:</i> 100.00% | <i>Test set:</i> 57.69% \n",
    "- Run 4: <i>Train set:</i> 99.52% | <i>Test set:</i> 55.769%\n",
    "- Run 5: <i>Train set:</i> 100.00% | <i>Test set:</i> 65.385%\n",
    "- <b>Average:</b> <i>Train set:</i> <b>99.8%</b> | <i>Test set:</i> <b>64.615%</b> \n",
    "\n",
    "<center>Run 1 figure:</center>\n",
    "<img src=\"figures_result/all_idb2-baseline.png\">\n",
    "\n",
    "#### Baseline results (no dropout, no data augmentation) with greyscale:\n",
    "- Run 1: <i>Train set:</i> 100.00% | <i>Test set:</i> 82.692%\n",
    "- Run 2: <i>Train set:</i> 100.00% | <i>Test set:</i> 78.846%\n",
    "- Run 3: <i>Train set:</i> 100.00% | <i>Test set:</i> 59.615% \n",
    "- Run 4: <i>Train set:</i> 100.00% | <i>Test set:</i> 84.615%\n",
    "- Run 5: <i>Train set:</i> 100.00% | <i>Test set:</i> 67.31%\n",
    "- <b>Average:</b> <i>Train set:</i> <b>100.00%</b> | <i>Test set:</i> <b>74.61%</b> \n",
    "\n",
    "<center>Run 1 figure:</center>\n",
    "<img src=\"figures_result/all_idb2-grey.png\">\n",
    "\n",
    "#### Dropout of 0.1:\n",
    "- Run 1: <i>Train set:</i> 82.21% | <i>Test set:</i> 67.308%\n",
    "- Run 2: <i>Train set:</i> 78.85% | <i>Test set:</i> 53.846%\n",
    "- Run 3: <i>Train set:</i> 78.37% | <i>Test set:</i> 57.692% \n",
    "- Run 4: <i>Train set:</i> 74.52% | <i>Test set:</i> 55.77%\n",
    "- Run 5: <i>Train set:</i> 77.88% | <i>Test set:</i> 71.15%\n",
    "- <b>Average:</b> <i>Train set:</i> <b>78.36%</b> | <i>Test set:</i> <b>61.15%</b> \n",
    "\n",
    "<center>Run 1 figure:</center>\n",
    "<img src=\"figures_result/all_idb2-dropout.png\">\n",
    "\n",
    "#### With data augmentation (Train set = 416 imgs, test set = 104 imgs): \n",
    "- Run 1: <i>Train set:</i> 98.64% | <i>Test set:</i> 75.269%\n",
    "- Run 2: <i>Train set:</i> 96.21% | <i>Test set:</i> 87.10%\n",
    "- Run 3: <i>Train set:</i> 97.29% | <i>Test set:</i>  61.29%\n",
    "- Run 4: <i>Train set:</i> 98.92% | <i>Test set:</i> 81.720% \n",
    "- Run 5: <i>Train set:</i> 99.46% | <i>Test set:</i> 74.194%\n",
    "- <b>Average:</b> <i>Train set:</i> <b>98.104%</b> | <i>Test set:</i> <b>75.87%</b> \n",
    "\n",
    "<center>Run 1 figure:</center>\n",
    "<img src=\"figures_result/all_idb2-data_aug.png\">\n",
    "\n",
    "#### With dropout and data augmentation: \n",
    "- Run 1: <i>Train set:</i> 80.49% | <i>Test set:</i> 60.215%\n",
    "- Run 2: <i>Train set:</i> 84.01% | <i>Test set:</i> 76.34% \n",
    "- Run 3: <i>Train set:</i> 86.18% | <i>Test set:</i> 60.22%\n",
    "- Run 4: <i>Train set:</i> 81.03% | <i>Test set:</i> 76.34%\n",
    "- Run 5: <i>Train set:</i> 83.47% | <i>Test set:</i> 67.74%\n",
    "- <b>Average:</b> <i>Train set:</i> <b>83.03</b> | <i>Test set:</i> <b>68.17%</b> \n",
    "\n",
    "<center>Run 1 figure:</center>\n",
    "<img src=\"figures_result/all_idb2-data_aug_dropout.png\">"
   ]
  },
  {
   "cell_type": "code",
   "execution_count": null,
   "metadata": {},
   "outputs": [],
   "source": []
  }
 ],
 "metadata": {
  "colab": {
   "collapsed_sections": [],
   "name": "allidb1_recognition.ipynb",
   "provenance": [],
   "toc_visible": true
  },
  "kernelspec": {
   "display_name": "Python 3.6 (tensorflow)",
   "language": "python",
   "name": "tensorflow"
  },
  "language_info": {
   "codemirror_mode": {
    "name": "ipython",
    "version": 3
   },
   "file_extension": ".py",
   "mimetype": "text/x-python",
   "name": "python",
   "nbconvert_exporter": "python",
   "pygments_lexer": "ipython3",
   "version": "3.6.9"
  }
 },
 "nbformat": 4,
 "nbformat_minor": 1
}
