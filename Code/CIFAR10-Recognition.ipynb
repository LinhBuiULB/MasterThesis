{
 "cells": [
  {
   "cell_type": "markdown",
   "metadata": {},
   "source": [
    "# CIFAR10 Dataset Recognition using CNN \n",
    "###  → See Section 5 in Master Thesis : \"Model prototype\" "
   ]
  },
  {
   "cell_type": "markdown",
   "metadata": {},
   "source": [
    "## • Imports & preprocessing "
   ]
  },
  {
   "cell_type": "code",
   "execution_count": 112,
   "metadata": {},
   "outputs": [],
   "source": [
    "import time \n",
    "import numpy as np \n",
    "import sys\n",
    "import matplotlib.pyplot as plt\n",
    "from keras.models import Sequential\n",
    "from keras.layers import Dense, Dropout, Flatten, BatchNormalization, Activation\n",
    "from keras.layers.convolutional import Conv2D, MaxPooling2D\n",
    "from keras.constraints import maxnorm\n",
    "from keras.utils import np_utils\n",
    "from keras.regularizers import l2\n",
    "from keras.preprocessing.image import ImageDataGenerator"
   ]
  },
  {
   "cell_type": "code",
   "execution_count": 113,
   "metadata": {},
   "outputs": [],
   "source": [
    "# Set random seed for purposes of reproducibility\n",
    "seed = 21"
   ]
  },
  {
   "cell_type": "code",
   "execution_count": 114,
   "metadata": {},
   "outputs": [],
   "source": [
    "from keras.datasets import cifar10"
   ]
  },
  {
   "cell_type": "code",
   "execution_count": 115,
   "metadata": {},
   "outputs": [],
   "source": [
    "# loading in the data\n",
    "     \n",
    "(X_train, y_train), (X_test, y_test) = cifar10.load_data()"
   ]
  },
  {
   "cell_type": "code",
   "execution_count": 116,
   "metadata": {},
   "outputs": [
    {
     "data": {
      "text/plain": [
       "'\\n# plot first few images\\nfor i in range(9):\\n    # define subplot\\n    plt.subplot(330 + 1 + i)\\n    # plot raw pixel data\\n    plt.imshow(X_train[i])\\n# show the figure\\nplt.show()\\n'"
      ]
     },
     "execution_count": 116,
     "metadata": {},
     "output_type": "execute_result"
    }
   ],
   "source": [
    "\"\"\"\n",
    "# plot first few images\n",
    "for i in range(9):\n",
    "    # define subplot\n",
    "    plt.subplot(330 + 1 + i)\n",
    "    # plot raw pixel data\n",
    "    plt.imshow(X_train[i])\n",
    "# show the figure\n",
    "plt.show()\n",
    "\"\"\""
   ]
  },
  {
   "cell_type": "code",
   "execution_count": 117,
   "metadata": {},
   "outputs": [],
   "source": [
    "# normalize the inputs from 0-255 to between 0 and 1 by dividing by 255\n",
    "    \n",
    "X_train = X_train.astype('float32')\n",
    "X_test = X_test.astype('float32')\n",
    "X_train = X_train / 255.0\n",
    "X_test = X_test / 255.0"
   ]
  },
  {
   "cell_type": "code",
   "execution_count": 118,
   "metadata": {},
   "outputs": [],
   "source": [
    "# Delete some training images to test faster \n",
    "X_train_bis = X_train[0:1000] \n",
    "y_train_bis = y_train[0:1000]"
   ]
  },
  {
   "cell_type": "markdown",
   "metadata": {},
   "source": [
    "###  One hot encoding"
   ]
  },
  {
   "cell_type": "code",
   "execution_count": 119,
   "metadata": {},
   "outputs": [],
   "source": [
    "# specify the number of classes that are in the dataset, so we know how many neurons to compress the final layer down to \n",
    "y_train = np_utils.to_categorical(y_train)\n",
    "y_test = np_utils.to_categorical(y_test)\n",
    "class_num = y_test.shape[1]"
   ]
  },
  {
   "cell_type": "markdown",
   "metadata": {},
   "source": [
    "## • Creating the model"
   ]
  },
  {
   "cell_type": "markdown",
   "metadata": {},
   "source": [
    "### Convolutional layers"
   ]
  },
  {
   "cell_type": "code",
   "execution_count": 120,
   "metadata": {},
   "outputs": [],
   "source": [
    "# Create the model and add the first convolutional layer \n",
    "model = Sequential()\n",
    "\n",
    "# Add weight decay => add kernel_regularizer=l2(0.001) as parameter and comment Dropout lines \n",
    "\n",
    "model.add(Conv2D(32, (3, 3), input_shape=X_train.shape[1:], padding='same')) # 32 filters, window of 3x3 pixels\n",
    "model.add(Activation('relu')) ### ----------> Tester une autre fonction "
   ]
  },
  {
   "cell_type": "code",
   "execution_count": 121,
   "metadata": {},
   "outputs": [],
   "source": [
    "# Dropout ? https://medium.com/@amarbudhiraja/https-medium-com-amarbudhiraja-learning-less-to-learn-better-dropout-in-deep-machine-learning-74334da4bfc5\n",
    "# It means that you randomly select 20% (if dropout = 0.2) of the neurons and set their weights to zero for the forward and backward passes i.e. for one iteration.\n",
    "model.add(Dropout(0.2)) \n",
    "\n",
    "# Batch normalization:  https://towardsdatascience.com/batch-normalization-in-neural-networks-1ac91516821c \n",
    "model.add(BatchNormalization())"
   ]
  },
  {
   "cell_type": "code",
   "execution_count": 122,
   "metadata": {},
   "outputs": [],
   "source": [
    "# Repeat until 128 \n",
    "model.add(Conv2D(64, (3, 3), padding='same'))\n",
    "model.add(MaxPooling2D(pool_size=(2, 2)))\n",
    "model.add(Activation('relu'))\n",
    "model.add(Dropout(0.2))\n",
    "model.add(BatchNormalization())\n",
    "\n",
    "model.add(Conv2D(128, (3, 3), padding='same'))\n",
    "model.add(Activation('relu'))\n",
    "model.add(Dropout(0.2))\n",
    "model.add(BatchNormalization())"
   ]
  },
  {
   "cell_type": "markdown",
   "metadata": {},
   "source": [
    "### Flatten"
   ]
  },
  {
   "cell_type": "code",
   "execution_count": 123,
   "metadata": {},
   "outputs": [],
   "source": [
    "model.add(Flatten())\n",
    "model.add(Dropout(0.2))"
   ]
  },
  {
   "cell_type": "markdown",
   "metadata": {},
   "source": [
    "### Dense layers"
   ]
  },
  {
   "cell_type": "code",
   "execution_count": 124,
   "metadata": {},
   "outputs": [],
   "source": [
    "model.add(Dense(256, kernel_constraint=maxnorm(3)))\n",
    "model.add(Activation('relu'))\n",
    "model.add(Dropout(0.2))\n",
    "model.add(BatchNormalization())\n",
    "\n",
    "model.add(Dense(128, kernel_constraint=maxnorm(3)))\n",
    "model.add(Activation('relu'))\n",
    "model.add(Dropout(0.2))\n",
    "model.add(BatchNormalization())"
   ]
  },
  {
   "cell_type": "code",
   "execution_count": 125,
   "metadata": {},
   "outputs": [],
   "source": [
    "# Last layer : 10 neurons representing 10 possible outputs \n",
    "model.add(Dense(class_num))\n",
    "model.add(Activation('softmax'))"
   ]
  },
  {
   "cell_type": "markdown",
   "metadata": {},
   "source": [
    "## • Model compilation"
   ]
  },
  {
   "cell_type": "code",
   "execution_count": 126,
   "metadata": {},
   "outputs": [
    {
     "name": "stdout",
     "output_type": "stream",
     "text": [
      "_________________________________________________________________\n",
      "Layer (type)                 Output Shape              Param #   \n",
      "=================================================================\n",
      "conv2d_16 (Conv2D)           (None, 32, 32, 32)        896       \n",
      "_________________________________________________________________\n",
      "activation_31 (Activation)   (None, 32, 32, 32)        0         \n",
      "_________________________________________________________________\n",
      "dropout_1 (Dropout)          (None, 32, 32, 32)        0         \n",
      "_________________________________________________________________\n",
      "batch_normalization_26 (Batc (None, 32, 32, 32)        128       \n",
      "_________________________________________________________________\n",
      "conv2d_17 (Conv2D)           (None, 32, 32, 64)        18496     \n",
      "_________________________________________________________________\n",
      "max_pooling2d_6 (MaxPooling2 (None, 16, 16, 64)        0         \n",
      "_________________________________________________________________\n",
      "activation_32 (Activation)   (None, 16, 16, 64)        0         \n",
      "_________________________________________________________________\n",
      "dropout_2 (Dropout)          (None, 16, 16, 64)        0         \n",
      "_________________________________________________________________\n",
      "batch_normalization_27 (Batc (None, 16, 16, 64)        256       \n",
      "_________________________________________________________________\n",
      "conv2d_18 (Conv2D)           (None, 16, 16, 128)       73856     \n",
      "_________________________________________________________________\n",
      "activation_33 (Activation)   (None, 16, 16, 128)       0         \n",
      "_________________________________________________________________\n",
      "dropout_3 (Dropout)          (None, 16, 16, 128)       0         \n",
      "_________________________________________________________________\n",
      "batch_normalization_28 (Batc (None, 16, 16, 128)       512       \n",
      "_________________________________________________________________\n",
      "flatten_6 (Flatten)          (None, 32768)             0         \n",
      "_________________________________________________________________\n",
      "dropout_4 (Dropout)          (None, 32768)             0         \n",
      "_________________________________________________________________\n",
      "dense_16 (Dense)             (None, 256)               8388864   \n",
      "_________________________________________________________________\n",
      "activation_34 (Activation)   (None, 256)               0         \n",
      "_________________________________________________________________\n",
      "dropout_5 (Dropout)          (None, 256)               0         \n",
      "_________________________________________________________________\n",
      "batch_normalization_29 (Batc (None, 256)               1024      \n",
      "_________________________________________________________________\n",
      "dense_17 (Dense)             (None, 128)               32896     \n",
      "_________________________________________________________________\n",
      "activation_35 (Activation)   (None, 128)               0         \n",
      "_________________________________________________________________\n",
      "dropout_6 (Dropout)          (None, 128)               0         \n",
      "_________________________________________________________________\n",
      "batch_normalization_30 (Batc (None, 128)               512       \n",
      "_________________________________________________________________\n",
      "dense_18 (Dense)             (None, 10)                1290      \n",
      "_________________________________________________________________\n",
      "activation_36 (Activation)   (None, 10)                0         \n",
      "=================================================================\n",
      "Total params: 8,518,730\n",
      "Trainable params: 8,517,514\n",
      "Non-trainable params: 1,216\n",
      "_________________________________________________________________\n",
      "None\n"
     ]
    }
   ],
   "source": [
    "epochs = 10 # https://datascience.stackexchange.com/questions/27561/can-the-number-of-epochs-influence-overfitting\n",
    "batch_size = 64\n",
    "optimizer = 'rmsprop' # https://www.quora.com/How-do-I-choose-an-optimizer-for-my-tensorflow-model \n",
    "\n",
    "model.compile(loss='categorical_crossentropy', optimizer=optimizer, metrics=['accuracy'])\n",
    "print(model.summary())"
   ]
  },
  {
   "cell_type": "markdown",
   "metadata": {},
   "source": [
    "## • Data augmentation\n",
    "\n",
    "<b>Note:</b> Uncomment this following cell to try some data augmentation and comment the case \"Model training\" "
   ]
  },
  {
   "cell_type": "code",
   "execution_count": 127,
   "metadata": {},
   "outputs": [
    {
     "data": {
      "text/plain": [
       "'\\n# create data generator\\ndatagen = ImageDataGenerator(width_shift_range=0.1, height_shift_range=0.1, horizontal_flip=True)\\n# prepare iterator\\nit_train = datagen.flow(X_train, y_train, batch_size=64)\\n# fit model\\nsteps = int(X_train.shape[0] / 64)\\nstart_time = time.time()\\nhistory = model.fit_generator(it_train, steps_per_epoch=steps, epochs=epochs, validation_data=(X_test, y_test))\\nprint(\"--- %s seconds ---\" % (time.time() - start_time)) \\n'"
      ]
     },
     "execution_count": 127,
     "metadata": {},
     "output_type": "execute_result"
    }
   ],
   "source": [
    "'''\n",
    "# create data generator\n",
    "datagen = ImageDataGenerator(width_shift_range=0.1, height_shift_range=0.1, horizontal_flip=True)\n",
    "# prepare iterator\n",
    "it_train = datagen.flow(X_train, y_train, batch_size=64)\n",
    "# fit model\n",
    "steps = int(X_train.shape[0] / 64)\n",
    "start_time = time.time()\n",
    "history = model.fit_generator(it_train, steps_per_epoch=steps, epochs=epochs, validation_data=(X_test, y_test))\n",
    "print(\"--- %s seconds ---\" % (time.time() - start_time)) \n",
    "'''"
   ]
  },
  {
   "cell_type": "markdown",
   "metadata": {},
   "source": [
    "## • Model training"
   ]
  },
  {
   "cell_type": "code",
   "execution_count": 128,
   "metadata": {},
   "outputs": [
    {
     "name": "stdout",
     "output_type": "stream",
     "text": [
      "Train on 50000 samples, validate on 10000 samples\n",
      "Epoch 1/10\n",
      "50000/50000 [==============================] - 441s 9ms/step - loss: 1.3954 - acc: 0.5063 - val_loss: 1.1654 - val_acc: 0.5900\n",
      "Epoch 2/10\n",
      "50000/50000 [==============================] - 441s 9ms/step - loss: 0.9516 - acc: 0.6652 - val_loss: 0.9992 - val_acc: 0.6530\n",
      "Epoch 3/10\n",
      "50000/50000 [==============================] - 441s 9ms/step - loss: 0.8232 - acc: 0.7138 - val_loss: 1.1093 - val_acc: 0.6221\n",
      "Epoch 4/10\n",
      "50000/50000 [==============================] - 454s 9ms/step - loss: 0.7611 - acc: 0.7376 - val_loss: 1.3283 - val_acc: 0.5844\n",
      "Epoch 5/10\n",
      "50000/50000 [==============================] - 439s 9ms/step - loss: 0.7197 - acc: 0.7500 - val_loss: 0.9254 - val_acc: 0.6870\n",
      "Epoch 6/10\n",
      "50000/50000 [==============================] - 445s 9ms/step - loss: 0.6835 - acc: 0.7627 - val_loss: 0.8943 - val_acc: 0.6922\n",
      "Epoch 7/10\n",
      "50000/50000 [==============================] - 431s 9ms/step - loss: 0.6606 - acc: 0.7752 - val_loss: 0.9947 - val_acc: 0.6775\n",
      "Epoch 8/10\n",
      "50000/50000 [==============================] - 432s 9ms/step - loss: 0.6391 - acc: 0.7788 - val_loss: 0.7447 - val_acc: 0.7419\n",
      "Epoch 9/10\n",
      "50000/50000 [==============================] - 441s 9ms/step - loss: 0.6180 - acc: 0.7882 - val_loss: 0.7318 - val_acc: 0.7492\n",
      "Epoch 10/10\n",
      "50000/50000 [==============================] - 431s 9ms/step - loss: 0.6085 - acc: 0.7892 - val_loss: 0.7631 - val_acc: 0.7416\n",
      "--- 4397.217303514481 seconds ---\n"
     ]
    }
   ],
   "source": [
    "np.random.seed(seed)\n",
    "start_time = time.time()\n",
    "history = model.fit(X_train, y_train, validation_data=(X_test, y_test), epochs=epochs, batch_size=batch_size)\n",
    "print(\"--- %s seconds ---\" % (time.time() - start_time)) "
   ]
  },
  {
   "cell_type": "markdown",
   "metadata": {},
   "source": [
    "## • Model evaluation"
   ]
  },
  {
   "cell_type": "code",
   "execution_count": 129,
   "metadata": {},
   "outputs": [
    {
     "name": "stdout",
     "output_type": "stream",
     "text": [
      "10000/10000 [==============================] - 15s 2ms/step\n",
      "accuracy > 74.160\n"
     ]
    }
   ],
   "source": [
    "# Model evaluation\n",
    "_, acc = model.evaluate(X_test, y_test)\n",
    "print('accuracy > %.3f' % (acc * 100.0))"
   ]
  },
  {
   "cell_type": "markdown",
   "metadata": {},
   "source": [
    "### Results accuracy\n",
    "\n",
    "<b> Note: </b> These tests are performed over 1 epoch to avoid multiple large execution times. \n",
    "\n",
    "#### Testing optimizers :\n",
    "<i> On 1 epoch, Batch Size = 64 | With dropout of 0.2 </i> \n",
    "- Optimizer RMSPROP : <b>67.640%</b>\n",
    "- Optimizer ADAM : <b>61.710%</b>\n",
    "- Optimizer SGD : <b>52.850%</b>\n",
    "- Optimizer ADAGRAD : <b>59.170%</b> \n",
    "- Optimizer ADADELTA : <b>64.580%</b> \n",
    "\n",
    "### To counter overfitting : \n",
    "#### 1. Testing dropout values : \n",
    "<i> On 1 epoch, Batch Size = 64 | Optimizer RMSPROP </i> \n",
    "- No dropout : <b>61.310%</b> \n",
    "- With dropout of 0.1 : <b>63.320%</b>\n",
    "- With dropout of 0.2 : <b>67.640%</b> \n",
    "- With dropout of 0.4 : <b>48.280%</b> \n",
    "- With dropout of 0.6 : <b>32.910%</b> \n",
    "- Increasing dropout values (0.2 to 0.5) : <b>48.250%</b> \n",
    "\n",
    "#### 2. Testing weight decay : \n",
    "<i> On 1 epoch, Batch Size = 64 | Optimizer RMSPROP  </i> \n",
    "- With weight decay of 0.001 : <b>64.520%</b>\n",
    "- With weight decay of 0.01 : <b>57.890%</b>\n",
    "\n",
    "#### 3. Testing simple data augmentation : \n",
    "<i> On 1 epoch, Batch Size = 64 | Optimizer RMSPROP  </i> \n",
    "- With horizontal flip, minor shifts of the image, and perhaps small zooming : <b>64.420%</b>"
   ]
  },
  {
   "cell_type": "markdown",
   "metadata": {},
   "source": [
    "## Plots"
   ]
  },
  {
   "cell_type": "markdown",
   "metadata": {},
   "source": [
    "#### Testing epochs values : \n",
    "\n",
    "<i> On 10 epochs, Batch Size = 64 | Dropout = 0.2 | Optimizer RMSPROP </i>"
   ]
  },
  {
   "cell_type": "code",
   "execution_count": 130,
   "metadata": {},
   "outputs": [],
   "source": [
    "# plot diagnostic learning curves\n",
    "def summarize_diagnostics_by_epochs(history):\n",
    "    # summarize history for accuracy\n",
    "    plt.plot(history.history['acc'])\n",
    "    plt.plot(history.history['val_acc'])\n",
    "    plt.title('model accuracy')\n",
    "    plt.ylabel('accuracy')\n",
    "    plt.xlabel('epoch')\n",
    "    plt.legend(['train', 'test'], loc='upper left')\n",
    "    plt.show()\n",
    "    # summarize history for loss --> https://ml-cheatsheet.readthedocs.io/en/latest/loss_functions.html\n",
    "    plt.plot(history.history['loss'])\n",
    "    plt.plot(history.history['val_loss'])\n",
    "    plt.title('model loss')\n",
    "    plt.ylabel('loss')\n",
    "    plt.xlabel('epoch')\n",
    "    plt.legend(['train', 'test'], loc='upper left')\n",
    "    plt.show()"
   ]
  },
  {
   "cell_type": "code",
   "execution_count": 131,
   "metadata": {},
   "outputs": [
    {
     "data": {
      "image/png": "[encoded data removed]",
      "text/plain": [
       "<Figure size 432x288 with 1 Axes>"
      ]
     },
     "metadata": {
      "needs_background": "light"
     },
     "output_type": "display_data"
    },
    {
     "data": {
      "image/png": "[encoded data removed]",
      "text/plain": [
       "<Figure size 432x288 with 1 Axes>"
      ]
     },
     "metadata": {
      "needs_background": "light"
     },
     "output_type": "display_data"
    }
   ],
   "source": [
    "summarize_diagnostics_by_epochs(history)"
   ]
  }
 ],
 "metadata": {
  "kernelspec": {
   "display_name": "Python 3.6 (tensorflow)",
   "language": "python",
   "name": "tensorflow"
  },
  "language_info": {
   "codemirror_mode": {
    "name": "ipython",
    "version": 3
   },
   "file_extension": ".py",
   "mimetype": "text/x-python",
   "name": "python",
   "nbconvert_exporter": "python",
   "pygments_lexer": "ipython3",
   "version": "3.6.9"
  }
 },
 "nbformat": 4,
 "nbformat_minor": 2
}
